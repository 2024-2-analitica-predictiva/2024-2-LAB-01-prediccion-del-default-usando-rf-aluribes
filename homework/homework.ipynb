{
 "cells": [
  {
   "cell_type": "code",
   "execution_count": 1,
   "metadata": {},
   "outputs": [],
   "source": [
    "# Lectura de los datasets\n",
    "import os\n",
    "import pandas as pd\n",
    "\n",
    "df_train = pd.read_csv(\"../files/input/train_data.csv.zip\", index_col=False, compression=\"zip\")\n",
    "df_test = pd.read_csv(\"../files/input/test_data.csv.zip\", index_col=False, compression=\"zip\")"
   ]
  },
  {
   "cell_type": "code",
   "execution_count": 2,
   "metadata": {},
   "outputs": [],
   "source": [
    "# Renombrar la columna \"default payment next month\" a \"default\"\n",
    "df_train.rename(columns={'default payment next month': 'default'}, inplace=True)\n",
    "df_test.rename(columns={'default payment next month': 'default'}, inplace=True)"
   ]
  },
  {
   "cell_type": "code",
   "execution_count": 3,
   "metadata": {},
   "outputs": [],
   "source": [
    "# Remover la columna \"ID\"\n",
    "df_train.drop(columns='ID', inplace=True)\n",
    "df_test.drop(columns='ID', inplace=True)"
   ]
  },
  {
   "cell_type": "code",
   "execution_count": 4,
   "metadata": {},
   "outputs": [
    {
     "name": "stdout",
     "output_type": "stream",
     "text": [
      "=== Análisis descriptivo de df_train ===\n",
      "Forma (filas, columnas): (21000, 24)\n",
      "\n",
      "Información general:\n",
      "<class 'pandas.core.frame.DataFrame'>\n",
      "RangeIndex: 21000 entries, 0 to 20999\n",
      "Data columns (total 24 columns):\n",
      " #   Column     Non-Null Count  Dtype\n",
      "---  ------     --------------  -----\n",
      " 0   LIMIT_BAL  21000 non-null  int64\n",
      " 1   SEX        21000 non-null  int64\n",
      " 2   EDUCATION  21000 non-null  int64\n",
      " 3   MARRIAGE   21000 non-null  int64\n",
      " 4   AGE        21000 non-null  int64\n",
      " 5   PAY_0      21000 non-null  int64\n",
      " 6   PAY_2      21000 non-null  int64\n",
      " 7   PAY_3      21000 non-null  int64\n",
      " 8   PAY_4      21000 non-null  int64\n",
      " 9   PAY_5      21000 non-null  int64\n",
      " 10  PAY_6      21000 non-null  int64\n",
      " 11  BILL_AMT1  21000 non-null  int64\n",
      " 12  BILL_AMT2  21000 non-null  int64\n",
      " 13  BILL_AMT3  21000 non-null  int64\n",
      " 14  BILL_AMT4  21000 non-null  int64\n",
      " 15  BILL_AMT5  21000 non-null  int64\n",
      " 16  BILL_AMT6  21000 non-null  int64\n",
      " 17  PAY_AMT1   21000 non-null  int64\n",
      " 18  PAY_AMT2   21000 non-null  int64\n",
      " 19  PAY_AMT3   21000 non-null  int64\n",
      " 20  PAY_AMT4   21000 non-null  int64\n",
      " 21  PAY_AMT5   21000 non-null  int64\n",
      " 22  PAY_AMT6   21000 non-null  int64\n",
      " 23  default    21000 non-null  int64\n",
      "dtypes: int64(24)\n",
      "memory usage: 3.8 MB\n",
      "None\n"
     ]
    }
   ],
   "source": [
    "# Análisis descriptivo para df_train\n",
    "pd.set_option('display.max_columns', None)\n",
    "pd.set_option('display.max_rows', None)\n",
    "pd.set_option('display.width', None)\n",
    "pd.set_option('display.max_colwidth', None)\n",
    "\n",
    "print(\"=== Análisis descriptivo de df_train ===\")\n",
    "print(\"Forma (filas, columnas):\", df_train.shape)\n",
    "print(\"\\nInformación general:\")\n",
    "print(df_train.info())  # Muestra tipos de datos y conteo de valores no-nulos"
   ]
  },
  {
   "cell_type": "code",
   "execution_count": 5,
   "metadata": {},
   "outputs": [
    {
     "name": "stdout",
     "output_type": "stream",
     "text": [
      "\n",
      "Conteo de valores nulos por columna en df_train:\n",
      "LIMIT_BAL    0\n",
      "SEX          0\n",
      "EDUCATION    0\n",
      "MARRIAGE     0\n",
      "AGE          0\n",
      "PAY_0        0\n",
      "PAY_2        0\n",
      "PAY_3        0\n",
      "PAY_4        0\n",
      "PAY_5        0\n",
      "PAY_6        0\n",
      "BILL_AMT1    0\n",
      "BILL_AMT2    0\n",
      "BILL_AMT3    0\n",
      "BILL_AMT4    0\n",
      "BILL_AMT5    0\n",
      "BILL_AMT6    0\n",
      "PAY_AMT1     0\n",
      "PAY_AMT2     0\n",
      "PAY_AMT3     0\n",
      "PAY_AMT4     0\n",
      "PAY_AMT5     0\n",
      "PAY_AMT6     0\n",
      "default      0\n",
      "dtype: int64\n",
      "\n",
      "Estadísticas descriptivas (numéricas) de df_train:\n",
      "            LIMIT_BAL           SEX     EDUCATION      MARRIAGE           AGE  \\\n",
      "count    21000.000000  21000.000000  21000.000000  21000.000000  21000.000000   \n",
      "mean    167198.190476      1.604619      1.849810      1.554476     35.489905   \n",
      "std     129636.430200      0.488944      0.792372      0.521625      9.252432   \n",
      "min      10000.000000      1.000000      0.000000      0.000000     21.000000   \n",
      "25%      50000.000000      1.000000      1.000000      1.000000     28.000000   \n",
      "50%     140000.000000      2.000000      2.000000      2.000000     34.000000   \n",
      "75%     240000.000000      2.000000      2.000000      2.000000     41.000000   \n",
      "max    1000000.000000      2.000000      6.000000      3.000000     79.000000   \n",
      "\n",
      "              PAY_0         PAY_2         PAY_3         PAY_4         PAY_5  \\\n",
      "count  21000.000000  21000.000000  21000.000000  21000.000000  21000.000000   \n",
      "mean      -0.010905     -0.136095     -0.167905     -0.221952     -0.267190   \n",
      "std        1.120496      1.195517      1.189826      1.159799      1.124977   \n",
      "min       -2.000000     -2.000000     -2.000000     -2.000000     -2.000000   \n",
      "25%       -1.000000     -1.000000     -1.000000     -1.000000     -1.000000   \n",
      "50%        0.000000      0.000000      0.000000      0.000000      0.000000   \n",
      "75%        0.000000      0.000000      0.000000      0.000000      0.000000   \n",
      "max        8.000000      8.000000      8.000000      8.000000      8.000000   \n",
      "\n",
      "              PAY_6      BILL_AMT1      BILL_AMT2     BILL_AMT3  \\\n",
      "count  21000.000000   21000.000000   21000.000000  2.100000e+04   \n",
      "mean      -0.291667   51559.691905   49528.155095  4.733193e+04   \n",
      "std        1.143384   74011.967728   71537.930631  7.002302e+04   \n",
      "min       -2.000000 -165580.000000  -69777.000000 -1.572640e+05   \n",
      "25%       -1.000000    3637.250000    3046.250000  2.774750e+03   \n",
      "50%        0.000000   22516.000000   21267.000000  2.020300e+04   \n",
      "75%        0.000000   67271.500000   64537.500000  6.016950e+04   \n",
      "max        8.000000  964511.000000  983931.000000  1.664089e+06   \n",
      "\n",
      "           BILL_AMT4      BILL_AMT5      BILL_AMT6       PAY_AMT1  \\\n",
      "count   21000.000000   21000.000000   21000.000000   21000.000000   \n",
      "mean    43520.759810   40666.586333   39299.142762    5731.520619   \n",
      "std     64794.131524   61245.680235   60128.616528   17163.862242   \n",
      "min    -81334.000000  -81334.000000 -339603.000000       0.000000   \n",
      "25%      2400.000000    1759.750000    1253.750000    1000.000000   \n",
      "50%     19068.500000   18211.500000   17222.500000    2105.500000   \n",
      "75%     54428.750000   50283.000000   49502.250000    5004.000000   \n",
      "max    891586.000000  927171.000000  961664.000000  873552.000000   \n",
      "\n",
      "           PAY_AMT2       PAY_AMT3       PAY_AMT4       PAY_AMT5  \\\n",
      "count  2.100000e+04   21000.000000   21000.000000   21000.000000   \n",
      "mean   5.843741e+03    5209.664238    4899.399286    4870.868714   \n",
      "std    2.307889e+04   18072.759499   15967.974739   15438.904430   \n",
      "min    0.000000e+00       0.000000       0.000000       0.000000   \n",
      "25%    8.390000e+02     390.000000     282.000000     248.000000   \n",
      "50%    2.014000e+03    1823.500000    1500.000000    1500.000000   \n",
      "75%    5.000000e+03    4561.000000    4069.000000    4069.500000   \n",
      "max    1.684259e+06  896040.000000  621000.000000  426529.000000   \n",
      "\n",
      "            PAY_AMT6       default  \n",
      "count   21000.000000  21000.000000  \n",
      "mean     5259.265476      0.225095  \n",
      "std     18296.236704      0.417655  \n",
      "min         0.000000      0.000000  \n",
      "25%        87.000000      0.000000  \n",
      "50%      1500.000000      0.000000  \n",
      "75%      4000.000000      0.000000  \n",
      "max    528666.000000      1.000000  \n",
      "\n",
      "Distribución de la columna SEX en df_train:\n",
      "SEX\n",
      "2    12697\n",
      "1     8303\n",
      "Name: count, dtype: int64\n",
      "\n",
      "Distribución de la columna EDUCATION en df_train:\n",
      "EDUCATION\n",
      "2    9759\n",
      "1    7480\n",
      "3    3427\n",
      "5     187\n",
      "4      98\n",
      "6      40\n",
      "0       9\n",
      "Name: count, dtype: int64\n",
      "\n",
      "Distribución de la columna MARRIAGE en df_train:\n",
      "MARRIAGE\n",
      "2    11232\n",
      "1     9505\n",
      "3      225\n",
      "0       38\n",
      "Name: count, dtype: int64\n",
      "\n",
      "Distribución de la columna default en df_train:\n",
      "default\n",
      "0    16273\n",
      "1     4727\n",
      "Name: count, dtype: int64\n"
     ]
    }
   ],
   "source": [
    "print(\"\\nConteo de valores nulos por columna en df_train:\")\n",
    "print(df_train.isnull().sum())\n",
    "\n",
    "print(\"\\nEstadísticas descriptivas (numéricas) de df_train:\")\n",
    "print(df_train.describe())\n",
    "\n",
    "# Si quieres ver la distribución de variables categóricas, por ejemplo:\n",
    "categorical_columns = ['SEX', 'EDUCATION', 'MARRIAGE', 'default']  # ajusta según tu dataset\n",
    "for col in categorical_columns:\n",
    "    print(f\"\\nDistribución de la columna {col} en df_train:\")\n",
    "    print(df_train[col].value_counts())"
   ]
  },
  {
   "cell_type": "code",
   "execution_count": 6,
   "metadata": {},
   "outputs": [
    {
     "data": {
      "text/plain": [
       "<Axes: xlabel='default'>"
      ]
     },
     "execution_count": 6,
     "metadata": {},
     "output_type": "execute_result"
    },
    {
     "data": {
      "image/png": "[encoded data removed]",
      "text/plain": [
       "<Figure size 600x400 with 1 Axes>"
      ]
     },
     "metadata": {},
     "output_type": "display_data"
    }
   ],
   "source": [
    "import matplotlib.pyplot as plt\n",
    "\n",
    "default_counts = df_train['default'].value_counts()\n",
    "default_counts.plot(kind='bar', figsize=(6,4))"
   ]
  },
  {
   "cell_type": "code",
   "execution_count": 7,
   "metadata": {},
   "outputs": [
    {
     "name": "stdout",
     "output_type": "stream",
     "text": [
      "\n",
      "=== Análisis descriptivo de df_test ===\n",
      "Forma (filas, columnas): (9000, 24)\n",
      "\n",
      "Información general:\n",
      "<class 'pandas.core.frame.DataFrame'>\n",
      "RangeIndex: 9000 entries, 0 to 8999\n",
      "Data columns (total 24 columns):\n",
      " #   Column     Non-Null Count  Dtype\n",
      "---  ------     --------------  -----\n",
      " 0   LIMIT_BAL  9000 non-null   int64\n",
      " 1   SEX        9000 non-null   int64\n",
      " 2   EDUCATION  9000 non-null   int64\n",
      " 3   MARRIAGE   9000 non-null   int64\n",
      " 4   AGE        9000 non-null   int64\n",
      " 5   PAY_0      9000 non-null   int64\n",
      " 6   PAY_2      9000 non-null   int64\n",
      " 7   PAY_3      9000 non-null   int64\n",
      " 8   PAY_4      9000 non-null   int64\n",
      " 9   PAY_5      9000 non-null   int64\n",
      " 10  PAY_6      9000 non-null   int64\n",
      " 11  BILL_AMT1  9000 non-null   int64\n",
      " 12  BILL_AMT2  9000 non-null   int64\n",
      " 13  BILL_AMT3  9000 non-null   int64\n",
      " 14  BILL_AMT4  9000 non-null   int64\n",
      " 15  BILL_AMT5  9000 non-null   int64\n",
      " 16  BILL_AMT6  9000 non-null   int64\n",
      " 17  PAY_AMT1   9000 non-null   int64\n",
      " 18  PAY_AMT2   9000 non-null   int64\n",
      " 19  PAY_AMT3   9000 non-null   int64\n",
      " 20  PAY_AMT4   9000 non-null   int64\n",
      " 21  PAY_AMT5   9000 non-null   int64\n",
      " 22  PAY_AMT6   9000 non-null   int64\n",
      " 23  default    9000 non-null   int64\n",
      "dtypes: int64(24)\n",
      "memory usage: 1.6 MB\n",
      "None\n"
     ]
    }
   ],
   "source": [
    "# Análisis descriptivo para df_test\n",
    "print(\"\\n=== Análisis descriptivo de df_test ===\")\n",
    "print(\"Forma (filas, columnas):\", df_test.shape)\n",
    "print(\"\\nInformación general:\")\n",
    "print(df_test.info())"
   ]
  },
  {
   "cell_type": "code",
   "execution_count": 8,
   "metadata": {},
   "outputs": [
    {
     "name": "stdout",
     "output_type": "stream",
     "text": [
      "\n",
      "Conteo de valores nulos por columna en df_test:\n",
      "LIMIT_BAL    0\n",
      "SEX          0\n",
      "EDUCATION    0\n",
      "MARRIAGE     0\n",
      "AGE          0\n",
      "PAY_0        0\n",
      "PAY_2        0\n",
      "PAY_3        0\n",
      "PAY_4        0\n",
      "PAY_5        0\n",
      "PAY_6        0\n",
      "BILL_AMT1    0\n",
      "BILL_AMT2    0\n",
      "BILL_AMT3    0\n",
      "BILL_AMT4    0\n",
      "BILL_AMT5    0\n",
      "BILL_AMT6    0\n",
      "PAY_AMT1     0\n",
      "PAY_AMT2     0\n",
      "PAY_AMT3     0\n",
      "PAY_AMT4     0\n",
      "PAY_AMT5     0\n",
      "PAY_AMT6     0\n",
      "default      0\n",
      "dtype: int64\n",
      "\n",
      "Estadísticas descriptivas (numéricas) de df_test:\n",
      "           LIMIT_BAL          SEX    EDUCATION     MARRIAGE          AGE  \\\n",
      "count    9000.000000  9000.000000  9000.000000  9000.000000  9000.000000   \n",
      "mean   168151.964444     1.601667     1.860889     1.545778    35.475222   \n",
      "std    130011.593021     0.489582     0.785596     0.522751     9.137335   \n",
      "min     10000.000000     1.000000     0.000000     0.000000    21.000000   \n",
      "25%     50000.000000     1.000000     1.000000     1.000000    28.000000   \n",
      "50%    140000.000000     2.000000     2.000000     2.000000    34.000000   \n",
      "75%    240000.000000     2.000000     2.000000     2.000000    41.000000   \n",
      "max    780000.000000     2.000000     6.000000     3.000000    75.000000   \n",
      "\n",
      "             PAY_0        PAY_2        PAY_3        PAY_4        PAY_5  \\\n",
      "count  9000.000000  9000.000000  9000.000000  9000.000000  9000.000000   \n",
      "mean     -0.030222    -0.128333    -0.162222    -0.217667    -0.263889   \n",
      "std       1.131423     1.201121     1.213197     1.190705     1.152176   \n",
      "min      -2.000000    -2.000000    -2.000000    -2.000000    -2.000000   \n",
      "25%      -1.000000    -1.000000    -1.000000    -1.000000    -1.000000   \n",
      "50%       0.000000     0.000000     0.000000     0.000000     0.000000   \n",
      "75%       0.000000     0.000000     0.000000     0.000000     0.000000   \n",
      "max       8.000000     7.000000     7.000000     8.000000     7.000000   \n",
      "\n",
      "             PAY_6      BILL_AMT1      BILL_AMT2      BILL_AMT3  \\\n",
      "count  9000.000000    9000.000000    9000.000000    9000.000000   \n",
      "mean     -0.289778   50438.488556   48364.555333   46269.346333   \n",
      "std       1.165314   72748.752091   70313.931783   67749.549894   \n",
      "min      -2.000000   -9802.000000  -30000.000000  -25443.000000   \n",
      "25%      -1.000000    3424.750000    2872.000000    2500.000000   \n",
      "50%       0.000000   21951.500000   21068.000000   19917.000000   \n",
      "75%       0.000000   66703.750000   62660.750000   60063.000000   \n",
      "max       7.000000  610723.000000  743970.000000  565550.000000   \n",
      "\n",
      "           BILL_AMT4      BILL_AMT5      BILL_AMT6       PAY_AMT1  \\\n",
      "count    9000.000000    9000.000000    9000.000000    9000.000000   \n",
      "mean    42661.390333   39482.635111   37874.534889    5505.053556   \n",
      "std     63242.943264   59732.659929   58182.623195   15068.843463   \n",
      "min   -170000.000000  -61372.000000  -57060.000000       0.000000   \n",
      "25%      2155.750000    1771.500000    1261.000000     934.750000   \n",
      "50%     19031.500000   17899.000000   16715.000000    2100.000000   \n",
      "75%     54633.250000   50011.500000   48574.000000    5026.000000   \n",
      "max    572805.000000  823540.000000  527711.000000  493358.000000   \n",
      "\n",
      "           PAY_AMT2       PAY_AMT3       PAY_AMT4       PAY_AMT5  \\\n",
      "count  9.000000e+03    9000.000000    9000.000000    9000.000000   \n",
      "mean   6.101815e+03    5263.055111    4654.991222    4632.598444   \n",
      "std    2.295217e+04   16469.855728   14937.695126   14896.355740   \n",
      "min    0.000000e+00       0.000000       0.000000       0.000000   \n",
      "25%    8.232500e+02     407.000000     315.500000     265.500000   \n",
      "50%    2.000000e+03    1775.500000    1500.000000    1500.000000   \n",
      "75%    5.000000e+03    4451.000000    4000.000000    4000.000000   \n",
      "max    1.227082e+06  417588.000000  497000.000000  417990.000000   \n",
      "\n",
      "            PAY_AMT6      default  \n",
      "count    9000.000000  9000.000000  \n",
      "mean     5113.389111     0.212111  \n",
      "std     16504.234791     0.408826  \n",
      "min         0.000000     0.000000  \n",
      "25%       200.000000     0.000000  \n",
      "50%      1500.000000     0.000000  \n",
      "75%      4026.500000     0.000000  \n",
      "max    351282.000000     1.000000  \n",
      "\n",
      "Distribución de la columna SEX en df_test:\n",
      "SEX\n",
      "2    5415\n",
      "1    3585\n",
      "Name: count, dtype: int64\n",
      "\n",
      "Distribución de la columna EDUCATION en df_test:\n",
      "EDUCATION\n",
      "2    4271\n",
      "1    3105\n",
      "3    1490\n",
      "5      93\n",
      "4      25\n",
      "6      11\n",
      "0       5\n",
      "Name: count, dtype: int64\n",
      "\n",
      "Distribución de la columna MARRIAGE en df_test:\n",
      "MARRIAGE\n",
      "2    4732\n",
      "1    4154\n",
      "3      98\n",
      "0      16\n",
      "Name: count, dtype: int64\n",
      "\n",
      "Distribución de la columna default en df_test:\n",
      "default\n",
      "0    7091\n",
      "1    1909\n",
      "Name: count, dtype: int64\n"
     ]
    }
   ],
   "source": [
    "print(\"\\nConteo de valores nulos por columna en df_test:\")\n",
    "print(df_test.isnull().sum())\n",
    "\n",
    "print(\"\\nEstadísticas descriptivas (numéricas) de df_test:\")\n",
    "print(df_test.describe())\n",
    "\n",
    "# Distribución de variables categóricas en df_test\n",
    "for col in categorical_columns:\n",
    "    print(f\"\\nDistribución de la columna {col} en df_test:\")\n",
    "    print(df_test[col].value_counts())"
   ]
  },
  {
   "cell_type": "code",
   "execution_count": 9,
   "metadata": {},
   "outputs": [
    {
     "data": {
      "text/plain": [
       "<Axes: xlabel='default'>"
      ]
     },
     "execution_count": 9,
     "metadata": {},
     "output_type": "execute_result"
    },
    {
     "data": {
      "image/png": "[encoded data removed]",
      "text/plain": [
       "<Figure size 600x400 with 1 Axes>"
      ]
     },
     "metadata": {},
     "output_type": "display_data"
    }
   ],
   "source": [
    "import matplotlib.pyplot as plt\n",
    "\n",
    "default_counts = df_test['default'].value_counts()\n",
    "default_counts.plot(kind='bar', figsize=(6,4))"
   ]
  },
  {
   "cell_type": "code",
   "execution_count": 10,
   "metadata": {},
   "outputs": [
    {
     "data": {
      "image/png": "[encoded data removed]",
      "text/plain": [
       "<Figure size 800x400 with 1 Axes>"
      ]
     },
     "metadata": {},
     "output_type": "display_data"
    }
   ],
   "source": [
    "import matplotlib.pyplot as plt\n",
    "\n",
    "# Listamos las columnas no categóricas (numéricas) \n",
    "numerical_columns = ['EDUCATION'] \n",
    "\n",
    "# Generar gráficos de barras (histogramas agrupados en bins)\n",
    "for col in numerical_columns:\n",
    "    plt.figure(figsize=(8, 4))\n",
    "    df_train[col].plot(kind='hist', bins=30, alpha=0.7, edgecolor='black')  # Histograma con 30 bins\n",
    "    # Configuración del gráfico\n",
    "    plt.title(f\"Distribución de la columna '{col}'\")\n",
    "    plt.xlabel(col)\n",
    "    plt.ylabel(\"Frecuencia\")\n",
    "    plt.grid(axis='y', linestyle='--', alpha=0.7)\n",
    "    plt.show()"
   ]
  },
  {
   "cell_type": "code",
   "execution_count": 11,
   "metadata": {},
   "outputs": [
    {
     "data": {
      "image/png": "[encoded data removed]",
      "text/plain": [
       "<Figure size 800x400 with 1 Axes>"
      ]
     },
     "metadata": {},
     "output_type": "display_data"
    }
   ],
   "source": [
    "import matplotlib.pyplot as plt\n",
    "\n",
    "# Listamos las columnas no categóricas (numéricas) \n",
    "numerical_columns = ['EDUCATION'] \n",
    "\n",
    "# Generar gráficos de barras (histogramas agrupados en bins)\n",
    "for col in numerical_columns:\n",
    "    plt.figure(figsize=(8, 4))\n",
    "    df_test[col].plot(kind='hist', bins=30, alpha=0.7, edgecolor='black')  # Histograma con 30 bins\n",
    "    # Configuración del gráfico\n",
    "    plt.title(f\"Distribución de la columna '{col}'\")\n",
    "    plt.xlabel(col)\n",
    "    plt.ylabel(\"Frecuencia\")\n",
    "    plt.grid(axis='y', linestyle='--', alpha=0.7)\n",
    "    plt.show()"
   ]
  },
  {
   "cell_type": "code",
   "execution_count": 13,
   "metadata": {},
   "outputs": [],
   "source": [
    "# import matplotlib.pyplot as plt\n",
    "\n",
    "# # Listamos las columnas no categóricas (numéricas) según tu dataset\n",
    "# numerical_columns = ['PAY_0', 'PAY_2', 'PAY_3', 'PAY_4', 'PAY_5', 'PAY_6',\n",
    "#     'BILL_AMT1', 'BILL_AMT2', 'BILL_AMT3', 'BILL_AMT4', 'BILL_AMT5', 'BILL_AMT6',\n",
    "#     'PAY_AMT1', 'PAY_AMT2', 'PAY_AMT3', 'PAY_AMT4', 'PAY_AMT5', 'PAY_AMT6'] \n",
    "\n",
    "# # Generar gráficos de barras (histogramas agrupados en bins)\n",
    "# for col in numerical_columns:\n",
    "#     plt.figure(figsize=(8, 4))\n",
    "#     df_train[col].plot(kind='hist', bins=30, alpha=0.7, edgecolor='black')  # Histograma con 30 bins\n",
    "    \n",
    "#     # Configuración del gráfico\n",
    "#     plt.title(f\"Distribución de la columna '{col}'\")\n",
    "#     plt.xlabel(col)\n",
    "#     plt.ylabel(\"Frecuencia\")\n",
    "#     plt.grid(axis='y', linestyle='--', alpha=0.7)\n",
    "#     plt.show()\n"
   ]
  },
  {
   "cell_type": "code",
   "execution_count": 12,
   "metadata": {},
   "outputs": [
    {
     "name": "stdout",
     "output_type": "stream",
     "text": [
      "Cantidad de registros donde MARRIAGE o EDUCATION son 0 antes de eliminarlos: 47\n",
      "Tamaño del dataset después de eliminar registros inválidos: (20953, 24)\n"
     ]
    }
   ],
   "source": [
    "# Contar los registros donde MARRIAGE o EDUCATION son 0 antes de eliminarlos\n",
    "marriage_education_zeros = df_train[(df_train['MARRIAGE'] == 0) | (df_train['EDUCATION'] == 0)].shape[0]\n",
    "\n",
    "print(f\"Cantidad de registros donde MARRIAGE o EDUCATION son 0 antes de eliminarlos: {marriage_education_zeros}\")\n",
    "\n",
    "# Eliminar registros donde MARRIAGE o EDUCATION sean 0\n",
    "df_train = df_train[(df_train['MARRIAGE'] != 0) & (df_train['EDUCATION'] != 0)]\n",
    "\n",
    "# Verificar el tamaño del dataset después de eliminar\n",
    "print(f\"Tamaño del dataset después de eliminar registros inválidos: {df_train.shape}\")"
   ]
  },
  {
   "cell_type": "code",
   "execution_count": 13,
   "metadata": {},
   "outputs": [
    {
     "name": "stdout",
     "output_type": "stream",
     "text": [
      "Cantidad de registros donde MARRIAGE o EDUCATION son 0 antes de eliminarlos: 21\n",
      "Tamaño del dataset después de eliminar registros inválidos: (8979, 24)\n"
     ]
    }
   ],
   "source": [
    "# Contar los registros donde MARRIAGE o EDUCATION son 0 antes de eliminarlos\n",
    "marriage_education_zeros = df_test[(df_test['MARRIAGE'] == 0) | (df_test['EDUCATION'] == 0)].shape[0]\n",
    "\n",
    "print(f\"Cantidad de registros donde MARRIAGE o EDUCATION son 0 antes de eliminarlos: {marriage_education_zeros}\")\n",
    "\n",
    "# Eliminar registros donde MARRIAGE o EDUCATION sean 0\n",
    "df_test = df_test[(df_test['MARRIAGE'] != 0) & (df_test['EDUCATION'] != 0)]\n",
    "\n",
    "# Verificar el tamaño del dataset después de eliminar\n",
    "print(f\"Tamaño del dataset después de eliminar registros inválidos: {df_test.shape}\")"
   ]
  },
  {
   "cell_type": "code",
   "execution_count": 14,
   "metadata": {},
   "outputs": [],
   "source": [
    "# Agrupar valores de EDUCATION > 4 como 4 (others)\n",
    "df_train[\"EDUCATION\"] = df_train[\"EDUCATION\"].apply(lambda x: 4 if x>4 else x)\n",
    "df_test[\"EDUCATION\"] = df_test[\"EDUCATION\"].apply(lambda x: 4 if x>4 else x)"
   ]
  },
  {
   "cell_type": "code",
   "execution_count": 15,
   "metadata": {},
   "outputs": [],
   "source": [
    "# Paso 2: División en X (features) e y (target)\n",
    "# Extraemos X e y del conjunto de entrenamiento\n",
    "X_train = df_train.drop(columns='default')\n",
    "y_train = df_train['default']\n",
    "\n",
    "# Extraemos X e y del conjunto de prueba\n",
    "X_test = df_test.drop(columns='default')\n",
    "y_test = df_test['default']"
   ]
  },
  {
   "cell_type": "code",
   "execution_count": 16,
   "metadata": {},
   "outputs": [],
   "source": [
    "# Paso 3: Creación del Pipeline\n",
    "from sklearn.compose import ColumnTransformer\n",
    "from sklearn.preprocessing import OneHotEncoder, StandardScaler\n",
    "from sklearn.ensemble import RandomForestClassifier\n",
    "from sklearn.pipeline import Pipeline\n",
    "\n",
    "# Identificamos las columnas categóricas y numéricas\n",
    "categorical_cols = ['SEX', 'EDUCATION', 'MARRIAGE']\n",
    "\n",
    "# Creamos un ColumnTransformer\n",
    "preprocessor = ColumnTransformer(\n",
    "    transformers=[\n",
    "        ('cat', OneHotEncoder(handle_unknown='ignore'), categorical_cols)\n",
    "    ],\n",
    "    remainder='passthrough'\n",
    ")\n",
    "\n",
    "pipeline = Pipeline(steps=[\n",
    "    ('preprocessor', preprocessor),\n",
    "    ('estimator', RandomForestClassifier(random_state=42))\n",
    "    ],\n",
    "    verbose=False)"
   ]
  },
  {
   "cell_type": "code",
   "execution_count": 18,
   "metadata": {},
   "outputs": [
    {
     "name": "stdout",
     "output_type": "stream",
     "text": [
      "Fitting 10 folds for each of 64 candidates, totalling 640 fits\n",
      "Mejores parámetros encontrados: {'estimator__class_weight': 'balanced', 'estimator__max_depth': 10, 'estimator__max_features': 'log2', 'estimator__min_samples_leaf': 2, 'estimator__min_samples_split': 10, 'estimator__n_estimators': 200}\n"
     ]
    }
   ],
   "source": [
    "# Paso 4: Optimización de hiperparámetros con validación cruzada\n",
    "from sklearn.model_selection import GridSearchCV\n",
    "\n",
    "# Definimos la grilla de hiperparámetros a explorar\n",
    "param_grid = {\n",
    "    'estimator__n_estimators': [100, 200],   #100     \n",
    "    'estimator__max_depth': [None, 10], #10\n",
    "    'estimator__min_samples_split': [5, 10], #10\n",
    "    'estimator__min_samples_leaf': [2, 4], # 4\n",
    "    'estimator__max_features': ['sqrt', 'log2'], #log2\n",
    "    'estimator__class_weight': [None, 'balanced'] #balanced\n",
    "}\n",
    "\n",
    "grid_search = GridSearchCV(\n",
    "    estimator=pipeline, #####\n",
    "    param_grid=param_grid, ######\n",
    "    scoring='balanced_accuracy',  # precisión balanceada\n",
    "    cv=10,                       # 10-fold CV\n",
    "    n_jobs=-1,                   # usar todos los cores disponibles\n",
    "    verbose=2\n",
    ")\n",
    "\n",
    "grid_search.fit(X_train, y_train)\n",
    "\n",
    "# El mejor pipeline\n",
    "best_model = grid_search\n",
    "print(\"Mejores parámetros encontrados:\", grid_search.best_params_)"
   ]
  },
  {
   "cell_type": "code",
   "execution_count": 19,
   "metadata": {},
   "outputs": [],
   "source": [
    "# Paso 5: Guardar el modelo comprimido\n",
    "import joblib\n",
    "import gzip\n",
    "\n",
    "os.makedirs('../files/models/', exist_ok=True)\n",
    "\n",
    "with gzip.open('../files/models/model.pkl.gz', 'wb') as f:\n",
    "    joblib.dump(best_model, f)"
   ]
  },
  {
   "cell_type": "code",
   "execution_count": 21,
   "metadata": {},
   "outputs": [
    {
     "name": "stdout",
     "output_type": "stream",
     "text": [
      "Métricas de entrenamiento: {'type': 'metrics', 'dataset': 'train', 'precision': 0.5868465430016864, 'balanced_accuracy': np.float64(0.7634904398042184), 'recall': 0.6628571428571428, 'f1_score': 0.6225402504472272}\n",
      "Métricas de prueba: {'type': 'metrics', 'dataset': 'test', 'precision': 0.5051454138702461, 'balanced_accuracy': np.float64(0.7179853436705417), 'recall': 0.5923399790136411, 'f1_score': 0.545278918135716}\n"
     ]
    }
   ],
   "source": [
    "# Paso 6: Cálculo de métricas en entrenamiento y prueba\n",
    "\n",
    "from sklearn.metrics import precision_score, balanced_accuracy_score, recall_score, f1_score\n",
    "\n",
    "# Predicciones sobre entrenamiento y prueba\n",
    "y_pred_train = best_model.predict(X_train)\n",
    "y_pred_test = best_model.predict(X_test)\n",
    "\n",
    "# Calculamos las métricas para cada conjunto\n",
    "train_precision = precision_score(y_train, y_pred_train)\n",
    "train_balanced_acc = balanced_accuracy_score(y_train, y_pred_train)\n",
    "train_recall = recall_score(y_train, y_pred_train)\n",
    "train_f1 = f1_score(y_train, y_pred_train)\n",
    "\n",
    "test_precision = precision_score(y_test, y_pred_test)\n",
    "test_balanced_acc = balanced_accuracy_score(y_test, y_pred_test)\n",
    "test_recall = recall_score(y_test, y_pred_test)\n",
    "test_f1 = f1_score(y_test, y_pred_test)\n",
    "\n",
    "# Creamos los diccionarios de métricas\n",
    "train_metrics = {\n",
    "    \"type\": \"metrics\",\n",
    "    'dataset': 'train',\n",
    "    'precision': train_precision,\n",
    "    'balanced_accuracy': train_balanced_acc,\n",
    "    'recall': train_recall,\n",
    "    'f1_score': train_f1\n",
    "}\n",
    "\n",
    "test_metrics = {\n",
    "    \"type\": \"metrics\",\n",
    "    'dataset': 'test',\n",
    "    'precision': test_precision,\n",
    "    'balanced_accuracy': test_balanced_acc,\n",
    "    'recall': test_recall,\n",
    "    'f1_score': test_f1\n",
    "}\n",
    "\n",
    "print(\"Métricas de entrenamiento:\", train_metrics)\n",
    "print(\"Métricas de prueba:\", test_metrics)\n"
   ]
  },
  {
   "cell_type": "code",
   "execution_count": 22,
   "metadata": {},
   "outputs": [],
   "source": [
    "# Matrices de confusión\n",
    "from sklearn.metrics import confusion_matrix\n",
    "import json\n",
    "\n",
    "cm_train = confusion_matrix(y_train, y_pred_train)\n",
    "cm_test = confusion_matrix(y_test, y_pred_test)\n",
    "\n",
    "# Matriz de confusión en la forma solicitada en el enunciado:\n",
    "# {'type': 'cm_matrix', 'dataset': 'train', \n",
    "#  'true_0': {\"predicted_0\": tn, \"predicted_1\": fp}, \n",
    "#  'true_1': {\"predicted_0\": fn, \"predicted_1\": tp}}\n",
    "\n",
    "train_cm_dict = {\n",
    "    'type': 'cm_matrix',\n",
    "    'dataset': 'train',\n",
    "    'true_0': {\n",
    "        'predicted_0': int(cm_train[0, 0]),\n",
    "        'predicted_1': int(cm_train[0, 1])\n",
    "    },\n",
    "    'true_1': {\n",
    "        'predicted_0': int(cm_train[1, 0]),\n",
    "        'predicted_1': int(cm_train[1, 1])\n",
    "    }\n",
    "}\n",
    "\n",
    "test_cm_dict = {\n",
    "    'type': 'cm_matrix',\n",
    "    'dataset': 'test',\n",
    "    'true_0': {\n",
    "        'predicted_0': int(cm_test[0, 0]),\n",
    "        'predicted_1': int(cm_test[0, 1])\n",
    "    },\n",
    "    'true_1': {\n",
    "        'predicted_0': int(cm_test[1, 0]),\n",
    "        'predicted_1': int(cm_test[1, 1])\n",
    "    }\n",
    "}\n"
   ]
  },
  {
   "cell_type": "code",
   "execution_count": 24,
   "metadata": {},
   "outputs": [
    {
     "name": "stdout",
     "output_type": "stream",
     "text": [
      "Métricas y matrices de confusión guardadas en files/output/metrics.json\n"
     ]
    }
   ],
   "source": [
    "#  Guardado de archivo\n",
    "all_metrics = [\n",
    "    train_metrics,\n",
    "    test_metrics,\n",
    "    train_cm_dict,\n",
    "    test_cm_dict\n",
    "]\n",
    "\n",
    "os.makedirs('../files/output/', exist_ok=True)\n",
    "\n",
    "# Guardamos en JSON, un diccionario por línea\n",
    "with open('../files/output/metrics.json', 'w') as f:\n",
    "    for metric in all_metrics:\n",
    "        f.write(json.dumps(metric) + '\\n')\n",
    "\n",
    "print(\"Métricas y matrices de confusión guardadas en files/output/metrics.json\")\n"
   ]
  }
 ],
 "metadata": {
  "kernelspec": {
   "display_name": ".venv",
   "language": "python",
   "name": "python3"
  },
  "language_info": {
   "codemirror_mode": {
    "name": "ipython",
    "version": 3
   },
   "file_extension": ".py",
   "mimetype": "text/x-python",
   "name": "python",
   "nbconvert_exporter": "python",
   "pygments_lexer": "ipython3",
   "version": "3.12.0"
  }
 },
 "nbformat": 4,
 "nbformat_minor": 2
}
